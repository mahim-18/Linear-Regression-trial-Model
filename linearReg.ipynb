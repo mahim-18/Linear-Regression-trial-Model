{
 "cells": [
  {
   "cell_type": "code",
   "execution_count": null,
   "id": "13e1fe20-5740-4a34-8cda-05ee631a6ef4",
   "metadata": {},
   "outputs": [],
   "source": [
    "import matplotlib.pyplot as plt\n",
    "import numpy as np\n",
    "import pandas as pd \n",
    "from sklearn import datasets, linear_model\n",
    "from sklearn.metrics import mean_squared_error\n",
    "from sklearn.model_selection import train_test_split #train_test_split() splits data into training (80%) and testing (20%) sets."
   ]
  },
  {
   "cell_type": "code",
   "execution_count": null,
   "id": "b4edfe20-ba2b-4db2-84d3-8f814c72c3fb",
   "metadata": {},
   "outputs": [],
   "source": [
    "diabetes = datasets.load_diabetes()"
   ]
  },
  {
   "cell_type": "markdown",
   "id": "5d786dc3-82b2-4b61-8298-089e222de099",
   "metadata": {},
   "source": [
    "# Splitting data\n",
    "### Training Model"
   ]
  },
  {
   "cell_type": "code",
   "execution_count": null,
   "id": "ab034c50-5e11-4dde-98e6-1aedb0c3d0a2",
   "metadata": {},
   "outputs": [],
   "source": [
    "# np.newaxis converts a 1D array into a 2D column vector\n",
    "# The [:, 2] selects only the 3rd feature (Body Mass Index, BMI) for modeling.\n",
    "diabetes_X = diabetes.data[:, np.newaxis, 2]\n",
    "diabetes_y = diabetes.target\n",
    "\n",
    "# diabetes_X_train = diabetes_X[:-30] # all rows except last 30\n",
    "# diabetes_X_test = diabetes_X[-30:] # last 30 rows only\n",
    "\n",
    "# diabetes_y_train = diabetes.target[:-30]\n",
    "# diabetes_y_test = diabetes.target[-30:]\n",
    "\n",
    "diabetes_X_train, diabetes_X_test, diabetes_y_train, diabetes_y_test = train_test_split(diabetes_X, diabetes_y, test_size=0.2, random_state=42)"
   ]
  },
  {
   "cell_type": "code",
   "execution_count": null,
   "id": "e1439451-72eb-4535-b8e4-60b6fc36c97b",
   "metadata": {},
   "outputs": [],
   "source": [
    "model = linear_model.LinearRegression()\n",
    "\n",
    "model.fit(diabetes_X_train, diabetes_y_train)\n",
    "# .predict() = takes input features and gives predicted target values\n",
    "diabetes_y_pred = model.predict(diabetes_X_test)\n"
   ]
  },
  {
   "cell_type": "code",
   "execution_count": null,
   "id": "01181e27-04f8-4265-913c-0d60c422ce57",
   "metadata": {},
   "outputs": [],
   "source": [
    "print(\"Mean square error: \", mean_squared_error(diabetes_y_pred, diabetes_y_test))\n",
    "print(\"Coefficient: \", model.coef_)\n",
    "print(\"Intercept: \", model.intercept_)\n",
    "\n",
    "\n",
    "# Mean square error:  3035.0601152912695\n",
    "# Coefficient:  [941.43097333]\n",
    "# Intercept:  153.39713623331644"
   ]
  },
  {
   "cell_type": "code",
   "execution_count": null,
   "id": "a99c483e-deb8-4449-b057-69e993fe3545",
   "metadata": {},
   "outputs": [],
   "source": [
    "plt.scatter(diabetes_X_test, diabetes_y_test)\n",
    "plt.plot(diabetes_X_test, diabetes_y_pred)"
   ]
  },
  {
   "cell_type": "code",
   "execution_count": null,
   "id": "41a7a074-9d84-4472-9a8d-fc0a481265e0",
   "metadata": {},
   "outputs": [],
   "source": []
  }
 ],
 "metadata": {
  "kernelspec": {
   "display_name": "Python [conda env:base] *",
   "language": "python",
   "name": "conda-base-py"
  },
  "language_info": {
   "codemirror_mode": {
    "name": "ipython",
    "version": 3
   },
   "file_extension": ".py",
   "mimetype": "text/x-python",
   "name": "python",
   "nbconvert_exporter": "python",
   "pygments_lexer": "ipython3",
   "version": "3.12.7"
  }
 },
 "nbformat": 4,
 "nbformat_minor": 5
}
